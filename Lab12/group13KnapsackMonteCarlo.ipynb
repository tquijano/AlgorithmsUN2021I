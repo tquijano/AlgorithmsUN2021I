{
  "nbformat": 4,
  "nbformat_minor": 0,
  "metadata": {
    "colab": {
      "name": "group13KnapsackMonteCarlo.ipynb",
      "provenance": []
    },
    "kernelspec": {
      "name": "python3",
      "display_name": "Python 3"
    },
    "language_info": {
      "name": "python"
    }
  },
  "cells": [
    {
      "cell_type": "markdown",
      "source": [
        "# Knapsack Counting Group 13\n",
        "<img src=\"https://metnumun.files.wordpress.com/2021/10/image-9.png?w=700\"/>\n",
        "<img src=\"https://algorithmsun.files.wordpress.com/2020/12/01knapsack.png?w=700\"/>"
      ],
      "metadata": {
        "id": "4uPu6WgUNjp9"
      }
    },
    {
      "cell_type": "code",
      "source": [
        "import numpy as np\n",
        "import itertools\n",
        "\n",
        "\n",
        "def knapsack(a, b, x):\n",
        "   #knapsack if a combination of items x, with sizes a fits in a knapsack of capacity b\n",
        "    return np.sum(np.multiply(a, x)) <= b"
      ],
      "metadata": {
        "id": "XTMF5Yx6PLhr"
      },
      "execution_count": 38,
      "outputs": []
    },
    {
      "cell_type": "markdown",
      "source": [
        "Count and calculate the exact proportion of  “Knapsack solutions.” for the problem in the image,"
      ],
      "metadata": {
        "id": "xev_Kduo4OOi"
      }
    },
    {
      "cell_type": "code",
      "execution_count": 39,
      "metadata": {
        "colab": {
          "base_uri": "https://localhost:8080/"
        },
        "id": "RfsvncrMNZiK",
        "outputId": "90f2fc27-3f6e-4c2a-93db-c752bfab993e"
      },
      "outputs": [
        {
          "output_type": "stream",
          "name": "stdout",
          "text": [
            "Solutions:  23\n",
            "Proportion:  0.71875\n",
            "combinations:  32\n"
          ]
        }
      ],
      "source": [
        "\n",
        "def proportion_knapsack_solutions (sizes, capacity, weights) :\n",
        "  solutions = 0\n",
        "\n",
        "  for i in list(weights):\n",
        "      if knapsack(sizes,capacity,np.array(i)):\n",
        "          solutions+=1\n",
        "  return solutions\n",
        "\n",
        "sizes = np.array([1,1,2,4,12]) \n",
        "capacity = 15 \n",
        "weights = list(itertools.product([0,1], repeat=sizes.size))\n",
        "solutions = proportion_knapsack_solutions (sizes, capacity, weights) \n",
        "combinations = 2**sizes.size\n",
        "proportion = solutions/(combinations)\n",
        "\n",
        "print('Solutions: ', solutions)\n",
        "print('Proportion: ', proportion)\n",
        "print('combinations: ', combinations)"
      ]
    },
    {
      "cell_type": "markdown",
      "source": [
        "Estimate the proportion and number of “Knapsack solutions.” if the sizes are (1,2,3,4,5,6,7,9,10) and the capacity of the knapsack is 10 using Mote Carlo with 1.000, 10.000 random binary vectors."
      ],
      "metadata": {
        "id": "6aukJQKU7bBD"
      }
    },
    {
      "cell_type": "code",
      "source": [
        "def estimate_proportion_knapsack_solutions(sizes, capacity, runtime):\n",
        "  solutions = 0\n",
        "\n",
        "  for i in range (1, runtime+1):\n",
        "      binary_vectors = np.random.randint(2, size=sizes.size)\n",
        "      if knapsack(sizes,capacity,binary_vectors):\n",
        "          solutions+=1\n",
        "  return solutions\n",
        "\n",
        "\n",
        "sizes = np.array([1, 2, 3, 4, 5, 6, 7, 9, 10])\n",
        "capacity  = 10\n",
        "runtime = 1000\n",
        "solutions = estimate_proportion_knapsack_solutions(sizes, capacity, runtime)\n",
        "proportion = solutions / runtime\n",
        "\n",
        "print('Solutions: ', solutions)\n",
        "print('Proportion: ', proportion)\n",
        "print('combinations: ', runtime)"
      ],
      "metadata": {
        "colab": {
          "base_uri": "https://localhost:8080/"
        },
        "id": "O7WhMNqeSMOM",
        "outputId": "26699f03-e933-4d30-b788-f5302cd07283"
      },
      "execution_count": 44,
      "outputs": [
        {
          "output_type": "stream",
          "name": "stdout",
          "text": [
            "Solutions:  60\n",
            "Proportion:  0.06\n",
            "combinations:  1000\n"
          ]
        }
      ]
    },
    {
      "cell_type": "code",
      "source": [
        "solutions = estimate_proportion_knapsack_solutions(sizes, capacity, runtime)\n",
        "runtime = 10000\n",
        "proportion = solutions / runtime\n",
        "\n",
        "print('Solutions: ', solutions)\n",
        "print('Proportion: ', proportion)\n",
        "print('combinations: ', runtime)"
      ],
      "metadata": {
        "colab": {
          "base_uri": "https://localhost:8080/"
        },
        "id": "vFG752fpVNNL",
        "outputId": "2bcb0f2a-8038-4e76-906e-93a345db1dc1"
      },
      "execution_count": 45,
      "outputs": [
        {
          "output_type": "stream",
          "name": "stdout",
          "text": [
            "Solutions:  82\n",
            "Proportion:  0.0082\n",
            "combinations:  10000\n"
          ]
        }
      ]
    },
    {
      "cell_type": "markdown",
      "source": [
        "Estimate the proportion and number of “Knapsack solutions” if the sizes are (1,2,3,4,…, 49,50) and the capacity of the knapsack are 10, 50, 100, 1275 using Mote Carlo with 10.000, 100.000 and 1.000.000 random binary vectors."
      ],
      "metadata": {
        "id": "gfeUfrdu-JpZ"
      }
    },
    {
      "cell_type": "markdown",
      "source": [
        "## Capacity: 10"
      ],
      "metadata": {
        "id": "v6Qj_IPVdjo0"
      }
    },
    {
      "cell_type": "code",
      "source": [
        "sizes = np.array(list(range(1,51)))\n",
        "capacity  = 10\n",
        "runtime = 10000\n",
        "solutions = estimate_proportion_knapsack_solutions(sizes, capacity, runtime)\n",
        "proportion = solutions / runtime\n",
        "\n",
        "print('Solutions: ', solutions)\n",
        "print('Proportion: ', proportion)\n",
        "print('combinations: ', runtime)"
      ],
      "metadata": {
        "colab": {
          "base_uri": "https://localhost:8080/"
        },
        "id": "pGnJ5xvXV3j5",
        "outputId": "2df8207e-c45e-41eb-a435-bbfe2a4d676a"
      },
      "execution_count": 48,
      "outputs": [
        {
          "output_type": "stream",
          "name": "stdout",
          "text": [
            "Solutions:  0\n",
            "Proportion:  0.0\n",
            "combinations:  10000\n"
          ]
        }
      ]
    },
    {
      "cell_type": "code",
      "source": [
        "sizes = np.array(list(range(1,51)))\n",
        "capacity  = 10\n",
        "runtime = 100000\n",
        "solutions = estimate_proportion_knapsack_solutions(sizes, capacity, runtime)\n",
        "proportion = solutions / runtime\n",
        "\n",
        "print('Solutions: ', solutions)\n",
        "print('Proportion: ', proportion)\n",
        "print('combinations: ', runtime)"
      ],
      "metadata": {
        "colab": {
          "base_uri": "https://localhost:8080/"
        },
        "id": "ZjU6mS5VctOK",
        "outputId": "95027479-e7e6-486f-d2a6-174f7c9b4a26"
      },
      "execution_count": 49,
      "outputs": [
        {
          "output_type": "stream",
          "name": "stdout",
          "text": [
            "Solutions:  0\n",
            "Proportion:  0.0\n",
            "combinations:  100000\n"
          ]
        }
      ]
    },
    {
      "cell_type": "code",
      "source": [
        "sizes = np.array(list(range(1,51)))\n",
        "capacity  = 10\n",
        "runtime = 100000\n",
        "solutions = estimate_proportion_knapsack_solutions(sizes, capacity, runtime)\n",
        "proportion = solutions / runtime\n",
        "\n",
        "print('Solutions: ', solutions)\n",
        "print('Proportion: ', proportion)\n",
        "print('combinations: ', runtime)"
      ],
      "metadata": {
        "colab": {
          "base_uri": "https://localhost:8080/"
        },
        "id": "uB1CxVjodRkY",
        "outputId": "eb30cb5f-e002-4706-e331-a34ad039917b"
      },
      "execution_count": 50,
      "outputs": [
        {
          "output_type": "stream",
          "name": "stdout",
          "text": [
            "Solutions:  0\n",
            "Proportion:  0.0\n",
            "combinations:  100000\n"
          ]
        }
      ]
    },
    {
      "cell_type": "markdown",
      "source": [
        "## Capacity: 50"
      ],
      "metadata": {
        "id": "MHhnPZg1dqDP"
      }
    },
    {
      "cell_type": "code",
      "source": [
        "sizes = np.array(list(range(1,51)))\n",
        "capacity  = 50\n",
        "runtime = 10000\n",
        "solutions = estimate_proportion_knapsack_solutions(sizes, capacity, runtime)\n",
        "proportion = solutions / runtime\n",
        "\n",
        "print('Solutions: ', solutions)\n",
        "print('Proportion: ', proportion)\n",
        "print('combinations: ', runtime)"
      ],
      "metadata": {
        "colab": {
          "base_uri": "https://localhost:8080/"
        },
        "outputId": "09f2b0df-25bb-4d6e-f6ec-00acc939ca74",
        "id": "lcFujfyodxQA"
      },
      "execution_count": 51,
      "outputs": [
        {
          "output_type": "stream",
          "name": "stdout",
          "text": [
            "Solutions:  0\n",
            "Proportion:  0.0\n",
            "combinations:  10000\n"
          ]
        }
      ]
    },
    {
      "cell_type": "code",
      "source": [
        "sizes = np.array(list(range(1,51)))\n",
        "capacity  = 50\n",
        "runtime = 100000\n",
        "solutions = estimate_proportion_knapsack_solutions(sizes, capacity, runtime)\n",
        "proportion = solutions / runtime\n",
        "\n",
        "print('Solutions: ', solutions)\n",
        "print('Proportion: ', proportion)\n",
        "print('combinations: ', runtime)"
      ],
      "metadata": {
        "colab": {
          "base_uri": "https://localhost:8080/"
        },
        "outputId": "df89a7b1-8db1-4d43-ffb9-77bf9843241d",
        "id": "dna74gvUdxQA"
      },
      "execution_count": 52,
      "outputs": [
        {
          "output_type": "stream",
          "name": "stdout",
          "text": [
            "Solutions:  0\n",
            "Proportion:  0.0\n",
            "combinations:  100000\n"
          ]
        }
      ]
    },
    {
      "cell_type": "code",
      "source": [
        "sizes = np.array(list(range(1,51)))\n",
        "capacity  = 50\n",
        "runtime = 1000000\n",
        "solutions = estimate_proportion_knapsack_solutions(sizes, capacity, runtime)\n",
        "proportion = solutions / runtime\n",
        "\n",
        "print('Solutions: ', solutions)\n",
        "print('Proportion: ', proportion)\n",
        "print('combinations: ', runtime)"
      ],
      "metadata": {
        "colab": {
          "base_uri": "https://localhost:8080/"
        },
        "outputId": "93388d8e-6664-4744-e19d-a41e993b30a7",
        "id": "wMq7kfsmdxQB"
      },
      "execution_count": 53,
      "outputs": [
        {
          "output_type": "stream",
          "name": "stdout",
          "text": [
            "Solutions:  0\n",
            "Proportion:  0.0\n",
            "combinations:  1000000\n"
          ]
        }
      ]
    },
    {
      "cell_type": "markdown",
      "source": [
        "## Capacity: 100"
      ],
      "metadata": {
        "id": "m_dj9mf0d1y8"
      }
    },
    {
      "cell_type": "code",
      "source": [
        "sizes = np.array(list(range(1,51)))\n",
        "runtime = 10000\n",
        "solutions = estimate_proportion_knapsack_solutions(sizes, capacity, runtime)\n",
        "proportion = solutions / runtime\n",
        "\n",
        "print('Solutions: ', solutions)\n",
        "print('Proportion: ', proportion)\n",
        "print('combinations: ', runtime)"
      ],
      "metadata": {
        "colab": {
          "base_uri": "https://localhost:8080/"
        },
        "outputId": "629568fc-7701-498a-9199-46e300631a8f",
        "id": "XW4lc1tVd1y8"
      },
      "execution_count": 54,
      "outputs": [
        {
          "output_type": "stream",
          "name": "stdout",
          "text": [
            "Solutions:  0\n",
            "Proportion:  0.0\n",
            "combinations:  10000\n"
          ]
        }
      ]
    },
    {
      "cell_type": "code",
      "source": [
        "sizes = np.array(list(range(1,51)))\n",
        "capacity  = 100\n",
        "runtime = 100000\n",
        "solutions = estimate_proportion_knapsack_solutions(sizes, capacity, runtime)\n",
        "proportion = solutions / runtime\n",
        "\n",
        "print('Solutions: ', solutions)\n",
        "print('Proportion: ', proportion)\n",
        "print('combinations: ', runtime)"
      ],
      "metadata": {
        "colab": {
          "base_uri": "https://localhost:8080/"
        },
        "outputId": "54e8a849-f375-441e-b44c-86c234184917",
        "id": "H9YpaKnCd1y9"
      },
      "execution_count": 55,
      "outputs": [
        {
          "output_type": "stream",
          "name": "stdout",
          "text": [
            "Solutions:  0\n",
            "Proportion:  0.0\n",
            "combinations:  100000\n"
          ]
        }
      ]
    },
    {
      "cell_type": "code",
      "source": [
        "sizes = np.array(list(range(1,51)))\n",
        "capacity  = 100\n",
        "runtime = 1000000\n",
        "solutions = estimate_proportion_knapsack_solutions(sizes, capacity, runtime)\n",
        "proportion = solutions / runtime\n",
        "\n",
        "print('Solutions: ', solutions)\n",
        "print('Proportion: ', proportion)\n",
        "print('combinations: ', runtime)"
      ],
      "metadata": {
        "colab": {
          "base_uri": "https://localhost:8080/"
        },
        "outputId": "731f396b-236a-4f2e-a6c1-9e486f1e639b",
        "id": "H6KxbfWud1y9"
      },
      "execution_count": 56,
      "outputs": [
        {
          "output_type": "stream",
          "name": "stdout",
          "text": [
            "Solutions:  0\n",
            "Proportion:  0.0\n",
            "combinations:  1000000\n"
          ]
        }
      ]
    },
    {
      "cell_type": "markdown",
      "source": [
        "## Capacity: 1275"
      ],
      "metadata": {
        "id": "ODAJ2KfLd8hu"
      }
    },
    {
      "cell_type": "code",
      "source": [
        "sizes = np.array(list(range(1,51)))\n",
        "capacity  = 1275\n",
        "runtime = 10000\n",
        "solutions = estimate_proportion_knapsack_solutions(sizes, capacity, runtime)\n",
        "proportion = solutions / runtime\n",
        "\n",
        "print('Solutions: ', solutions)\n",
        "print('Proportion: ', proportion)\n",
        "print('combinations: ', runtime)"
      ],
      "metadata": {
        "colab": {
          "base_uri": "https://localhost:8080/"
        },
        "outputId": "9900d25b-dd44-4564-fe80-946dbc6875eb",
        "id": "_7KeUBY2d8hu"
      },
      "execution_count": 57,
      "outputs": [
        {
          "output_type": "stream",
          "name": "stdout",
          "text": [
            "Solutions:  10000\n",
            "Proportion:  1.0\n",
            "combinations:  10000\n"
          ]
        }
      ]
    },
    {
      "cell_type": "code",
      "source": [
        "sizes = np.array(list(range(1,51)))\n",
        "capacity  = 1275\n",
        "runtime = 100000\n",
        "solutions = estimate_proportion_knapsack_solutions(sizes, capacity, runtime)\n",
        "proportion = solutions / runtime\n",
        "\n",
        "print('Solutions: ', solutions)\n",
        "print('Proportion: ', proportion)\n",
        "print('combinations: ', runtime)"
      ],
      "metadata": {
        "colab": {
          "base_uri": "https://localhost:8080/"
        },
        "outputId": "21a577f8-73af-4c2a-d7e0-2630907c17c5",
        "id": "2NW6K0eqd8hv"
      },
      "execution_count": 58,
      "outputs": [
        {
          "output_type": "stream",
          "name": "stdout",
          "text": [
            "Solutions:  100000\n",
            "Proportion:  1.0\n",
            "combinations:  100000\n"
          ]
        }
      ]
    },
    {
      "cell_type": "code",
      "source": [
        "sizes = np.array(list(range(1,51)))\n",
        "capacity  = 1275\n",
        "runtime = 1000000\n",
        "solutions = estimate_proportion_knapsack_solutions(sizes, capacity, runtime)\n",
        "proportion = solutions / runtime\n",
        "\n",
        "print('Solutions: ', solutions)\n",
        "print('Proportion: ', proportion)\n",
        "print('combinations: ', runtime)"
      ],
      "metadata": {
        "colab": {
          "base_uri": "https://localhost:8080/"
        },
        "outputId": "455a15f4-ac50-45b3-ca1c-718eeb0a0af1",
        "id": "iNn2BdnOd8hv"
      },
      "execution_count": 59,
      "outputs": [
        {
          "output_type": "stream",
          "name": "stdout",
          "text": [
            "Solutions:  1000000\n",
            "Proportion:  1.0\n",
            "combinations:  1000000\n"
          ]
        }
      ]
    }
  ]
}