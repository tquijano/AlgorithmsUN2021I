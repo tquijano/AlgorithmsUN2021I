{
  "nbformat": 4,
  "nbformat_minor": 0,
  "metadata": {
    "colab": {
      "name": "group13KnapsackMonteCarlo.ipynb",
      "provenance": []
    },
    "kernelspec": {
      "name": "python3",
      "display_name": "Python 3"
    },
    "language_info": {
      "name": "python"
    }
  },
  "cells": [
    {
      "cell_type": "markdown",
      "source": [
        "# Knapsack Counting Group 13\n",
        "<img src=\"https://metnumun.files.wordpress.com/2021/10/image-9.png?w=700\"/>\n",
        "<img src=\"https://algorithmsun.files.wordpress.com/2020/12/01knapsack.png?w=700\"/>"
      ],
      "metadata": {
        "id": "4uPu6WgUNjp9"
      }
    },
    {
      "cell_type": "code",
      "source": [
        "import numpy as np\n",
        "import itertools\n",
        "\n",
        "\n",
        "def knapsack(a, b, x):\n",
        "   #knapsack if a combination of items x, with sizes a fits in a knapsack of capacity b\n",
        "    return np.sum(np.multiply(a, x)) <= b"
      ],
      "metadata": {
        "id": "XTMF5Yx6PLhr"
      },
      "execution_count": 11,
      "outputs": []
    },
    {
      "cell_type": "markdown",
      "source": [
        "Count and calculate the exact proportion of  “Knapsack solutions.” for the problem in the image,"
      ],
      "metadata": {
        "id": "xev_Kduo4OOi"
      }
    },
    {
      "cell_type": "code",
      "execution_count": 13,
      "metadata": {
        "colab": {
          "base_uri": "https://localhost:8080/"
        },
        "id": "RfsvncrMNZiK",
        "outputId": "79ab7d0d-58ff-4bd6-abc3-a60a8330b0d9"
      },
      "outputs": [
        {
          "output_type": "stream",
          "name": "stdout",
          "text": [
            "Solutions:  23\n",
            "Proportion:  0.71875\n",
            "combinations:  32\n"
          ]
        }
      ],
      "source": [
        "\n",
        "def proportion_knapsack_solutions (sizes, capacity, weights) :\n",
        "  solutions = 0\n",
        "\n",
        "  for i in list(weights):\n",
        "      if knapsack(sizes,capacity,np.array(i)):\n",
        "          solutions+=1\n",
        "  return solutions\n",
        "\n",
        "sizes = np.array([1,1,2,4,12]) \n",
        "capacity = 15 \n",
        "weights = list(itertools.product([0,1], repeat=sizes.size))\n",
        "solutions = proportion_knapsack_solutions (sizes, capacity, weights) \n",
        "combinations = 2**sizes.size\n",
        "proportion = solutions/(combinations)\n",
        "\n",
        "print('Solutions: ', solutions)\n",
        "print('Proportion: ', proportion)\n",
        "print('combinations: ', combinations)"
      ]
    },
    {
      "cell_type": "markdown",
      "source": [
        "Estimate the proportion and number of “Knapsack solutions.” if the sizes are (1,2,3,4,5,6,7,9,10) and the capacity of the knapsack is 10 using Mote Carlo with 1.000, 10.000 random binary vectors."
      ],
      "metadata": {
        "id": "6aukJQKU7bBD"
      }
    },
    {
      "cell_type": "code",
      "source": [
        "def estimate_proportion_knapsack_solutions(sizes, capacity, runtime):\n",
        "  solutions = 0\n",
        "\n",
        "  for i in range (1, runtime+1):\n",
        "      binary_vectors = np.random.randint(2, size=sizes.size)\n",
        "      if knapsack(sizes,capacity,binary_vectors):\n",
        "          solutions+=1\n",
        "  return solutions\n",
        "\n",
        "\n",
        "sizes = np.array([1, 2, 3, 4, 5, 6, 7, 9, 10])\n",
        "capacity  = 10\n",
        "runtime = 1000\n",
        "solutions = estimate_proportion_knapsack_solutions(sizes, capacity, runtime)\n",
        "proportion = solutions / runtime\n",
        "\n",
        "print('Solutions: ', solutions)\n",
        "print('Proportion: ', proportion)\n",
        "print('combinations: ', runtime)"
      ],
      "metadata": {
        "colab": {
          "base_uri": "https://localhost:8080/"
        },
        "id": "O7WhMNqeSMOM",
        "outputId": "31249052-76ca-4fc0-c922-9cf484fa2d5f"
      },
      "execution_count": 21,
      "outputs": [
        {
          "output_type": "stream",
          "name": "stdout",
          "text": [
            "Solutions:  78\n",
            "Proportion:  0.078\n",
            "combinations:  1000\n"
          ]
        }
      ]
    },
    {
      "cell_type": "code",
      "source": [
        "solutions = estimate_proportion_knapsack_solutions(sizes, capacity, runtime)\n",
        "runtime = 10000\n",
        "proportion = solutions / runtime\n",
        "\n",
        "print('Solutions: ', solutions)\n",
        "print('Proportion: ', proportion)\n",
        "print('combinations: ', runtime)"
      ],
      "metadata": {
        "colab": {
          "base_uri": "https://localhost:8080/"
        },
        "id": "vFG752fpVNNL",
        "outputId": "ce25515f-89c8-4c9a-ad1e-72e5d2ac7f1c"
      },
      "execution_count": 23,
      "outputs": [
        {
          "output_type": "stream",
          "name": "stdout",
          "text": [
            "Solutions:  798\n",
            "Proportion:  0.0798\n",
            "combinations:  10000\n"
          ]
        }
      ]
    },
    {
      "cell_type": "markdown",
      "source": [
        "Estimate the proportion and number of “Knapsack solutions” if the sizes are (1,2,3,4,…, 49,50) and the capacity of the knapsack are 10, 50, 100, 1275 using Mote Carlo with 10.000, 100.000 and 1.000.000 random binary vectors."
      ],
      "metadata": {
        "id": "gfeUfrdu-JpZ"
      }
    },
    {
      "cell_type": "markdown",
      "source": [
        "## Capacity: 10"
      ],
      "metadata": {
        "id": "v6Qj_IPVdjo0"
      }
    },
    {
      "cell_type": "code",
      "source": [
        "sizes = np.array([1, 2, 3, 4, 5, 6, 7, 9, 10])\n",
        "capacity  = 10\n",
        "runtime = 10000\n",
        "solutions = estimate_proportion_knapsack_solutions(sizes, capacity, runtime)\n",
        "proportion = solutions / runtime\n",
        "\n",
        "print('Solutions: ', solutions)\n",
        "print('Proportion: ', proportion)\n",
        "print('combinations: ', runtime)"
      ],
      "metadata": {
        "colab": {
          "base_uri": "https://localhost:8080/"
        },
        "id": "pGnJ5xvXV3j5",
        "outputId": "188bd508-226f-4c1d-95c4-6fe24d222d88"
      },
      "execution_count": 24,
      "outputs": [
        {
          "output_type": "stream",
          "name": "stdout",
          "text": [
            "Solutions:  795\n",
            "Proportion:  0.0795\n",
            "combinations:  10000\n"
          ]
        }
      ]
    },
    {
      "cell_type": "code",
      "source": [
        "sizes = np.array([1, 2, 3, 4, 5, 6, 7, 9, 10])\n",
        "capacity  = 10\n",
        "runtime = 100000\n",
        "solutions = estimate_proportion_knapsack_solutions(sizes, capacity, runtime)\n",
        "proportion = solutions / runtime\n",
        "\n",
        "print('Solutions: ', solutions)\n",
        "print('Proportion: ', proportion)\n",
        "print('combinations: ', runtime)"
      ],
      "metadata": {
        "colab": {
          "base_uri": "https://localhost:8080/"
        },
        "id": "ZjU6mS5VctOK",
        "outputId": "5b120f7d-bbb3-4126-91f2-daac31f7eb17"
      },
      "execution_count": 25,
      "outputs": [
        {
          "output_type": "stream",
          "name": "stdout",
          "text": [
            "Solutions:  7679\n",
            "Proportion:  0.07679\n",
            "combinations:  100000\n"
          ]
        }
      ]
    },
    {
      "cell_type": "code",
      "source": [
        "sizes = np.array([1, 2, 3, 4, 5, 6, 7, 9, 10])\n",
        "capacity  = 10\n",
        "runtime = 100000\n",
        "solutions = estimate_proportion_knapsack_solutions(sizes, capacity, runtime)\n",
        "proportion = solutions / runtime\n",
        "\n",
        "print('Solutions: ', solutions)\n",
        "print('Proportion: ', proportion)\n",
        "print('combinations: ', runtime)"
      ],
      "metadata": {
        "colab": {
          "base_uri": "https://localhost:8080/"
        },
        "id": "uB1CxVjodRkY",
        "outputId": "d1531a9c-2178-4b60-f58c-b7b6176f4959"
      },
      "execution_count": 26,
      "outputs": [
        {
          "output_type": "stream",
          "name": "stdout",
          "text": [
            "Solutions:  7860\n",
            "Proportion:  0.0786\n",
            "combinations:  100000\n"
          ]
        }
      ]
    },
    {
      "cell_type": "markdown",
      "source": [
        "## Capacity: 50"
      ],
      "metadata": {
        "id": "MHhnPZg1dqDP"
      }
    },
    {
      "cell_type": "code",
      "source": [
        "sizes = np.array([1, 2, 3, 4, 5, 6, 7, 9, 10])\n",
        "capacity  = 50\n",
        "runtime = 10000\n",
        "solutions = estimate_proportion_knapsack_solutions(sizes, capacity, runtime)\n",
        "proportion = solutions / runtime\n",
        "\n",
        "print('Solutions: ', solutions)\n",
        "print('Proportion: ', proportion)\n",
        "print('combinations: ', runtime)"
      ],
      "metadata": {
        "colab": {
          "base_uri": "https://localhost:8080/"
        },
        "outputId": "dc50c918-997e-4d43-8703-080d47af1b14",
        "id": "lcFujfyodxQA"
      },
      "execution_count": 27,
      "outputs": [
        {
          "output_type": "stream",
          "name": "stdout",
          "text": [
            "Solutions:  10000\n",
            "Proportion:  1.0\n",
            "combinations:  10000\n"
          ]
        }
      ]
    },
    {
      "cell_type": "code",
      "source": [
        "sizes = np.array([1, 2, 3, 4, 5, 6, 7, 9, 10])\n",
        "capacity  = 50\n",
        "runtime = 100000\n",
        "solutions = estimate_proportion_knapsack_solutions(sizes, capacity, runtime)\n",
        "proportion = solutions / runtime\n",
        "\n",
        "print('Solutions: ', solutions)\n",
        "print('Proportion: ', proportion)\n",
        "print('combinations: ', runtime)"
      ],
      "metadata": {
        "colab": {
          "base_uri": "https://localhost:8080/"
        },
        "outputId": "70cd84cc-9f9b-43ad-b0b5-3dd1ed775fee",
        "id": "dna74gvUdxQA"
      },
      "execution_count": 28,
      "outputs": [
        {
          "output_type": "stream",
          "name": "stdout",
          "text": [
            "Solutions:  100000\n",
            "Proportion:  1.0\n",
            "combinations:  100000\n"
          ]
        }
      ]
    },
    {
      "cell_type": "code",
      "source": [
        "sizes = np.array([1, 2, 3, 4, 5, 6, 7, 9, 10])\n",
        "capacity  = 50\n",
        "runtime = 1000000\n",
        "solutions = estimate_proportion_knapsack_solutions(sizes, capacity, runtime)\n",
        "proportion = solutions / runtime\n",
        "\n",
        "print('Solutions: ', solutions)\n",
        "print('Proportion: ', proportion)\n",
        "print('combinations: ', runtime)"
      ],
      "metadata": {
        "colab": {
          "base_uri": "https://localhost:8080/"
        },
        "outputId": "d3c8bcf9-d2b8-480b-85c1-d50b3114a120",
        "id": "wMq7kfsmdxQB"
      },
      "execution_count": 29,
      "outputs": [
        {
          "output_type": "stream",
          "name": "stdout",
          "text": [
            "Solutions:  1000000\n",
            "Proportion:  1.0\n",
            "combinations:  1000000\n"
          ]
        }
      ]
    },
    {
      "cell_type": "markdown",
      "source": [
        "## Capacity: 100"
      ],
      "metadata": {
        "id": "m_dj9mf0d1y8"
      }
    },
    {
      "cell_type": "code",
      "source": [
        "sizes = np.array([1, 2, 3, 4, 5, 6, 7, 9, 10])\n",
        "capacity  = 100\n",
        "runtime = 10000\n",
        "solutions = estimate_proportion_knapsack_solutions(sizes, capacity, runtime)\n",
        "proportion = solutions / runtime\n",
        "\n",
        "print('Solutions: ', solutions)\n",
        "print('Proportion: ', proportion)\n",
        "print('combinations: ', runtime)"
      ],
      "metadata": {
        "colab": {
          "base_uri": "https://localhost:8080/"
        },
        "outputId": "b20ffa27-aa4b-4e40-c608-b26c6e46be07",
        "id": "XW4lc1tVd1y8"
      },
      "execution_count": 30,
      "outputs": [
        {
          "output_type": "stream",
          "name": "stdout",
          "text": [
            "Solutions:  10000\n",
            "Proportion:  1.0\n",
            "combinations:  10000\n"
          ]
        }
      ]
    },
    {
      "cell_type": "code",
      "source": [
        "sizes = np.array([1, 2, 3, 4, 5, 6, 7, 9, 10])\n",
        "capacity  = 100\n",
        "runtime = 100000\n",
        "solutions = estimate_proportion_knapsack_solutions(sizes, capacity, runtime)\n",
        "proportion = solutions / runtime\n",
        "\n",
        "print('Solutions: ', solutions)\n",
        "print('Proportion: ', proportion)\n",
        "print('combinations: ', runtime)"
      ],
      "metadata": {
        "colab": {
          "base_uri": "https://localhost:8080/"
        },
        "outputId": "25c45850-f21b-4efd-e540-24bebde36d0c",
        "id": "H9YpaKnCd1y9"
      },
      "execution_count": 31,
      "outputs": [
        {
          "output_type": "stream",
          "name": "stdout",
          "text": [
            "Solutions:  100000\n",
            "Proportion:  1.0\n",
            "combinations:  100000\n"
          ]
        }
      ]
    },
    {
      "cell_type": "code",
      "source": [
        "sizes = np.array([1, 2, 3, 4, 5, 6, 7, 9, 10])\n",
        "capacity  = 100\n",
        "runtime = 1000000\n",
        "solutions = estimate_proportion_knapsack_solutions(sizes, capacity, runtime)\n",
        "proportion = solutions / runtime\n",
        "\n",
        "print('Solutions: ', solutions)\n",
        "print('Proportion: ', proportion)\n",
        "print('combinations: ', runtime)"
      ],
      "metadata": {
        "colab": {
          "base_uri": "https://localhost:8080/"
        },
        "outputId": "332058b1-1074-4e3a-ff98-2d12ec24d884",
        "id": "H6KxbfWud1y9"
      },
      "execution_count": 32,
      "outputs": [
        {
          "output_type": "stream",
          "name": "stdout",
          "text": [
            "Solutions:  1000000\n",
            "Proportion:  1.0\n",
            "combinations:  1000000\n"
          ]
        }
      ]
    },
    {
      "cell_type": "markdown",
      "source": [
        "## Capacity: 1275"
      ],
      "metadata": {
        "id": "ODAJ2KfLd8hu"
      }
    },
    {
      "cell_type": "code",
      "source": [
        "sizes = np.array([1, 2, 3, 4, 5, 6, 7, 9, 10])\n",
        "capacity  = 1275\n",
        "runtime = 10000\n",
        "solutions = estimate_proportion_knapsack_solutions(sizes, capacity, runtime)\n",
        "proportion = solutions / runtime\n",
        "\n",
        "print('Solutions: ', solutions)\n",
        "print('Proportion: ', proportion)\n",
        "print('combinations: ', runtime)"
      ],
      "metadata": {
        "colab": {
          "base_uri": "https://localhost:8080/"
        },
        "outputId": "b242fa92-9a3d-4d01-8ca3-107156ed4510",
        "id": "_7KeUBY2d8hu"
      },
      "execution_count": 33,
      "outputs": [
        {
          "output_type": "stream",
          "name": "stdout",
          "text": [
            "Solutions:  10000\n",
            "Proportion:  1.0\n",
            "combinations:  10000\n"
          ]
        }
      ]
    },
    {
      "cell_type": "code",
      "source": [
        "sizes = np.array([1, 2, 3, 4, 5, 6, 7, 9, 10])\n",
        "capacity  = 1275\n",
        "runtime = 100000\n",
        "solutions = estimate_proportion_knapsack_solutions(sizes, capacity, runtime)\n",
        "proportion = solutions / runtime\n",
        "\n",
        "print('Solutions: ', solutions)\n",
        "print('Proportion: ', proportion)\n",
        "print('combinations: ', runtime)"
      ],
      "metadata": {
        "colab": {
          "base_uri": "https://localhost:8080/"
        },
        "outputId": "4e7cf98d-b8e4-4764-ca25-c9e88199d735",
        "id": "2NW6K0eqd8hv"
      },
      "execution_count": 34,
      "outputs": [
        {
          "output_type": "stream",
          "name": "stdout",
          "text": [
            "Solutions:  100000\n",
            "Proportion:  1.0\n",
            "combinations:  100000\n"
          ]
        }
      ]
    },
    {
      "cell_type": "code",
      "source": [
        "sizes = np.array([1, 2, 3, 4, 5, 6, 7, 9, 10])\n",
        "capacity  = 1275\n",
        "runtime = 1000000\n",
        "solutions = estimate_proportion_knapsack_solutions(sizes, capacity, runtime)\n",
        "proportion = solutions / runtime\n",
        "\n",
        "print('Solutions: ', solutions)\n",
        "print('Proportion: ', proportion)\n",
        "print('combinations: ', runtime)"
      ],
      "metadata": {
        "colab": {
          "base_uri": "https://localhost:8080/"
        },
        "outputId": "5a5aea85-ba11-4099-afda-e5510129466b",
        "id": "iNn2BdnOd8hv"
      },
      "execution_count": 35,
      "outputs": [
        {
          "output_type": "stream",
          "name": "stdout",
          "text": [
            "Solutions:  1000000\n",
            "Proportion:  1.0\n",
            "combinations:  1000000\n"
          ]
        }
      ]
    }
  ]
}